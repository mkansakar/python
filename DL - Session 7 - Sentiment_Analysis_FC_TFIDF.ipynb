{
 "cells": [
  {
   "cell_type": "markdown",
   "metadata": {
    "colab_type": "text",
    "id": "3Kp76ma7aVE3",
    "slideshow": {
     "slide_type": "slide"
    }
   },
   "source": [
    "### Load tensorflow"
   ]
  },
  {
   "cell_type": "code",
   "execution_count": 1,
   "metadata": {
    "colab": {},
    "colab_type": "code",
    "id": "4SVkYk0vaVE5"
   },
   "outputs": [],
   "source": [
    "import tensorflow as tf"
   ]
  },
  {
   "cell_type": "markdown",
   "metadata": {
    "colab_type": "text",
    "id": "nNnJVaAIaVE7",
    "slideshow": {
     "slide_type": "slide"
    }
   },
   "source": [
    "### Collect Data"
   ]
  },
  {
   "cell_type": "markdown",
   "metadata": {
    "colab_type": "text",
    "id": "LGKzPm-LaVE8"
   },
   "source": [
    "https://www.kaggle.com/c/word2vec-nlp-tutorial/data"
   ]
  },
  {
   "cell_type": "code",
   "execution_count": 2,
   "metadata": {
    "colab": {},
    "colab_type": "code",
    "id": "DJtXmad6aVE9",
    "slideshow": {
     "slide_type": "slide"
    }
   },
   "outputs": [],
   "source": [
    "import pandas as pd"
   ]
  },
  {
   "cell_type": "code",
   "execution_count": 3,
   "metadata": {
    "colab": {
     "base_uri": "https://localhost:8080/",
     "height": 216
    },
    "colab_type": "code",
    "executionInfo": {
     "elapsed": 3042,
     "status": "ok",
     "timestamp": 1558154596185,
     "user": {
      "displayName": "Rajeev Kumar",
      "photoUrl": "https://lh4.googleusercontent.com/-83GaAJT3hHA/AAAAAAAAAAI/AAAAAAABMsk/e8STDzL1f1s/s64/photo.jpg",
      "userId": "10567937244174773728"
     },
     "user_tz": -330
    },
    "id": "EJ7dWqIQaVFB",
    "outputId": "bb164377-b99f-4382-cf66-498a24aa8a11",
    "slideshow": {
     "slide_type": "fragment"
    }
   },
   "outputs": [
    {
     "name": "stdout",
     "output_type": "stream",
     "text": [
      "Number of examples:  (25000, 3)\n"
     ]
    },
    {
     "data": {
      "text/html": [
       "<div>\n",
       "<style scoped>\n",
       "    .dataframe tbody tr th:only-of-type {\n",
       "        vertical-align: middle;\n",
       "    }\n",
       "\n",
       "    .dataframe tbody tr th {\n",
       "        vertical-align: top;\n",
       "    }\n",
       "\n",
       "    .dataframe thead th {\n",
       "        text-align: right;\n",
       "    }\n",
       "</style>\n",
       "<table border=\"1\" class=\"dataframe\">\n",
       "  <thead>\n",
       "    <tr style=\"text-align: right;\">\n",
       "      <th></th>\n",
       "      <th>id</th>\n",
       "      <th>sentiment</th>\n",
       "      <th>review</th>\n",
       "    </tr>\n",
       "  </thead>\n",
       "  <tbody>\n",
       "    <tr>\n",
       "      <th>0</th>\n",
       "      <td>\"5814_8\"</td>\n",
       "      <td>1</td>\n",
       "      <td>\"With all this stuff going down at the moment ...</td>\n",
       "    </tr>\n",
       "    <tr>\n",
       "      <th>1</th>\n",
       "      <td>\"2381_9\"</td>\n",
       "      <td>1</td>\n",
       "      <td>\"\\\"The Classic War of the Worlds\\\" by Timothy ...</td>\n",
       "    </tr>\n",
       "    <tr>\n",
       "      <th>2</th>\n",
       "      <td>\"7759_3\"</td>\n",
       "      <td>0</td>\n",
       "      <td>\"The film starts with a manager (Nicholas Bell...</td>\n",
       "    </tr>\n",
       "    <tr>\n",
       "      <th>3</th>\n",
       "      <td>\"3630_4\"</td>\n",
       "      <td>0</td>\n",
       "      <td>\"It must be assumed that those who praised thi...</td>\n",
       "    </tr>\n",
       "    <tr>\n",
       "      <th>4</th>\n",
       "      <td>\"9495_8\"</td>\n",
       "      <td>1</td>\n",
       "      <td>\"Superbly trashy and wondrously unpretentious ...</td>\n",
       "    </tr>\n",
       "  </tbody>\n",
       "</table>\n",
       "</div>"
      ],
      "text/plain": [
       "         id  sentiment                                             review\n",
       "0  \"5814_8\"          1  \"With all this stuff going down at the moment ...\n",
       "1  \"2381_9\"          1  \"\\\"The Classic War of the Worlds\\\" by Timothy ...\n",
       "2  \"7759_3\"          0  \"The film starts with a manager (Nicholas Bell...\n",
       "3  \"3630_4\"          0  \"It must be assumed that those who praised thi...\n",
       "4  \"9495_8\"          1  \"Superbly trashy and wondrously unpretentious ..."
      ]
     },
     "execution_count": 3,
     "metadata": {},
     "output_type": "execute_result"
    }
   ],
   "source": [
    "#Read file into pandas dataframe\n",
    "df = pd.read_csv('labeledTrainData.tsv.zip',header=0, delimiter=\"\\t\", quoting=3)\n",
    "\n",
    "print('Number of examples: ', df.shape)\n",
    "df.head()"
   ]
  },
  {
   "cell_type": "code",
   "execution_count": 4,
   "metadata": {
    "colab": {
     "base_uri": "https://localhost:8080/",
     "height": 54
    },
    "colab_type": "code",
    "executionInfo": {
     "elapsed": 521,
     "status": "ok",
     "timestamp": 1558154652817,
     "user": {
      "displayName": "Rajeev Kumar",
      "photoUrl": "https://lh4.googleusercontent.com/-83GaAJT3hHA/AAAAAAAAAAI/AAAAAAABMsk/e8STDzL1f1s/s64/photo.jpg",
      "userId": "10567937244174773728"
     },
     "user_tz": -330
    },
    "id": "bYrYsOwZQQCt",
    "outputId": "63241d3d-34c7-4d11-fa42-ef4d33201de7"
   },
   "outputs": [
    {
     "data": {
      "text/plain": [
       "'\"With all this stuff going down at the moment with MJ i\\'ve started listening to his music, watching the odd documentary here and there, watched The Wiz and watched Moonwalker again. Maybe i just want to get a certain insight into this guy who i thought was really cool in the eighties just to maybe make up my mind whether he is guilty or innocent. Moonwalker is part biography, part feature film which i remember going to see at the cinema when it was originally released. Some of it has subtle messages about MJ\\'s feeling towards the press and also the obvious message of drugs are bad m\\'kay.<br /><br />Visually impressive but of course this is all about Michael Jackson so unless you remotely like MJ in anyway then you are going to hate this and find it boring. Some may call MJ an egotist for consenting to the making of this movie BUT MJ and most of his fans would say that he made it for the fans which if true is really nice of him.<br /><br />The actual feature film bit when it finally starts is only on for 20 minutes or so excluding the Smooth Criminal sequence and Joe Pesci is convincing as a psychopathic all powerful drug lord. Why he wants MJ dead so bad is beyond me. Because MJ overheard his plans? Nah, Joe Pesci\\'s character ranted that he wanted people to know it is he who is supplying drugs etc so i dunno, maybe he just hates MJ\\'s music.<br /><br />Lots of cool things in this like MJ turning into a car and a robot and the whole Speed Demon sequence. Also, the director must have had the patience of a saint when it came to filming the kiddy Bad sequence as usually directors hate working with one kid let alone a whole bunch of them performing a complex dance scene.<br /><br />Bottom line, this movie is for people who like MJ on one level or another (which i think is most people). If not, then stay away. It does try and give off a wholesome message and ironically MJ\\'s bestest buddy in this movie is a girl! Michael Jackson is truly one of the most talented people ever to grace this planet but is he guilty? Well, with all the attention i\\'ve gave this subject....hmmm well i don\\'t know because people can be different behind closed doors, i know this for a fact. He is either an extremely nice but stupid guy or one of the most sickest liars. I hope he is not the latter.\"'"
      ]
     },
     "execution_count": 4,
     "metadata": {},
     "output_type": "execute_result"
    }
   ],
   "source": [
    "df.review[0]"
   ]
  },
  {
   "cell_type": "code",
   "execution_count": 5,
   "metadata": {
    "colab": {},
    "colab_type": "code",
    "id": "P5miSeiDaVFF",
    "slideshow": {
     "slide_type": "fragment"
    }
   },
   "outputs": [],
   "source": [
    "#Extract review and sentiments\n",
    "reviews = df['review'].tolist()\n",
    "sentiment = df['sentiment'].tolist()"
   ]
  },
  {
   "cell_type": "markdown",
   "metadata": {
    "colab_type": "text",
    "id": "oXze_ZlIaVFI",
    "slideshow": {
     "slide_type": "slide"
    }
   },
   "source": [
    "\n",
    "### Convert Text Into numbers"
   ]
  },
  {
   "cell_type": "markdown",
   "metadata": {
    "colab_type": "text",
    "id": "LNExIQM3aVFJ",
    "slideshow": {
     "slide_type": "slide"
    }
   },
   "source": [
    "#### Build Keras Tokenizer"
   ]
  },
  {
   "cell_type": "code",
   "execution_count": 6,
   "metadata": {
    "colab": {},
    "colab_type": "code",
    "id": "6m9ZtvCjaVFK"
   },
   "outputs": [],
   "source": [
    "#Initialize Tokenizer\n",
    "tokenizer = tf.keras.preprocessing.text.Tokenizer(num_words=5000)\n",
    "\n",
    "#Let tokenizer look at all the text\n",
    "tokenizer.fit_on_texts(reviews)"
   ]
  },
  {
   "cell_type": "code",
   "execution_count": 7,
   "metadata": {
    "colab": {
     "base_uri": "https://localhost:8080/",
     "height": 34
    },
    "colab_type": "code",
    "executionInfo": {
     "elapsed": 511,
     "status": "ok",
     "timestamp": 1558154742376,
     "user": {
      "displayName": "Rajeev Kumar",
      "photoUrl": "https://lh4.googleusercontent.com/-83GaAJT3hHA/AAAAAAAAAAI/AAAAAAABMsk/e8STDzL1f1s/s64/photo.jpg",
      "userId": "10567937244174773728"
     },
     "user_tz": -330
    },
    "id": "x6y_ykzfaVFN",
    "outputId": "cc806809-7d70-4021-bf49-ef82cde7b664",
    "slideshow": {
     "slide_type": "fragment"
    }
   },
   "outputs": [
    {
     "data": {
      "text/plain": [
       "88582"
      ]
     },
     "execution_count": 7,
     "metadata": {},
     "output_type": "execute_result"
    }
   ],
   "source": [
    "#Vocablury\n",
    "len(tokenizer.word_index)"
   ]
  },
  {
   "cell_type": "markdown",
   "metadata": {
    "colab_type": "text",
    "id": "I8SHIGLgaVFP",
    "slideshow": {
     "slide_type": "slide"
    }
   },
   "source": [
    "\n",
    "#### Convert Text Into numbers using TF-IDF"
   ]
  },
  {
   "cell_type": "code",
   "execution_count": 8,
   "metadata": {
    "colab": {},
    "colab_type": "code",
    "id": "d5IL17pUaVFR",
    "slideshow": {
     "slide_type": "fragment"
    }
   },
   "outputs": [],
   "source": [
    "#Convert text into numbers\n",
    "features = tokenizer.texts_to_matrix(reviews, mode='tfidf')"
   ]
  },
  {
   "cell_type": "code",
   "execution_count": 9,
   "metadata": {
    "colab": {
     "base_uri": "https://localhost:8080/",
     "height": 34
    },
    "colab_type": "code",
    "executionInfo": {
     "elapsed": 541,
     "status": "ok",
     "timestamp": 1558154932916,
     "user": {
      "displayName": "Rajeev Kumar",
      "photoUrl": "https://lh4.googleusercontent.com/-83GaAJT3hHA/AAAAAAAAAAI/AAAAAAABMsk/e8STDzL1f1s/s64/photo.jpg",
      "userId": "10567937244174773728"
     },
     "user_tz": -330
    },
    "id": "3OZ1wgSMaVFV",
    "outputId": "3b014eb6-1337-4839-f35d-d9b77da437b0",
    "slideshow": {
     "slide_type": "fragment"
    }
   },
   "outputs": [
    {
     "data": {
      "text/plain": [
       "(25000, 5000)"
      ]
     },
     "execution_count": 9,
     "metadata": {},
     "output_type": "execute_result"
    }
   ],
   "source": [
    "#Input data shape\n",
    "features.shape"
   ]
  },
  {
   "cell_type": "code",
   "execution_count": 10,
   "metadata": {
    "colab": {
     "base_uri": "https://localhost:8080/",
     "height": 52
    },
    "colab_type": "code",
    "executionInfo": {
     "elapsed": 514,
     "status": "ok",
     "timestamp": 1558154961825,
     "user": {
      "displayName": "Rajeev Kumar",
      "photoUrl": "https://lh4.googleusercontent.com/-83GaAJT3hHA/AAAAAAAAAAI/AAAAAAABMsk/e8STDzL1f1s/s64/photo.jpg",
      "userId": "10567937244174773728"
     },
     "user_tz": -330
    },
    "id": "ZpeAPQ4LBq-o",
    "outputId": "a5d25cde-4d81-4a63-a010-c7963145f2f4"
   },
   "outputs": [
    {
     "data": {
      "text/plain": [
       "array([0.        , 2.75042893, 2.34574918, ..., 0.        , 0.        ,\n",
       "       0.        ])"
      ]
     },
     "execution_count": 10,
     "metadata": {},
     "output_type": "execute_result"
    }
   ],
   "source": [
    "features[0]"
   ]
  },
  {
   "cell_type": "markdown",
   "metadata": {
    "colab_type": "text",
    "id": "hDoNEWD_aVFY",
    "slideshow": {
     "slide_type": "slide"
    }
   },
   "source": [
    "### Build the Graph"
   ]
  },
  {
   "cell_type": "code",
   "execution_count": 11,
   "metadata": {
    "colab": {
     "base_uri": "https://localhost:8080/",
     "height": 89
    },
    "colab_type": "code",
    "executionInfo": {
     "elapsed": 686,
     "status": "ok",
     "timestamp": 1558155058200,
     "user": {
      "displayName": "Rajeev Kumar",
      "photoUrl": "https://lh4.googleusercontent.com/-83GaAJT3hHA/AAAAAAAAAAI/AAAAAAABMsk/e8STDzL1f1s/s64/photo.jpg",
      "userId": "10567937244174773728"
     },
     "user_tz": -330
    },
    "id": "oEF-Bz2maVFa",
    "outputId": "cd66b1da-9ec6-4037-d468-10557e9a2d07",
    "slideshow": {
     "slide_type": "fragment"
    }
   },
   "outputs": [],
   "source": [
    "#Initialize model, reshape & normalize data\n",
    "model = tf.keras.models.Sequential()\n",
    "\n",
    "#normalize data\n",
    "model.add(tf.keras.layers.BatchNormalization(input_shape=(5000,)))\n",
    "\n",
    "#Add Dense Layers\n",
    "model.add(tf.keras.layers.Dense(200, activation='relu'))\n",
    "model.add(tf.keras.layers.Dense(100, activation='relu'))\n",
    "model.add(tf.keras.layers.Dense(60, activation='relu'))\n",
    "model.add(tf.keras.layers.Dense(30, activation='relu'))"
   ]
  },
  {
   "cell_type": "markdown",
   "metadata": {
    "colab_type": "text",
    "id": "roTKegsSaVFc",
    "slideshow": {
     "slide_type": "slide"
    }
   },
   "source": [
    "### Build the Graph..."
   ]
  },
  {
   "cell_type": "code",
   "execution_count": 12,
   "metadata": {
    "colab": {},
    "colab_type": "code",
    "id": "l939T_DpaVFe",
    "slideshow": {
     "slide_type": "fragment"
    }
   },
   "outputs": [],
   "source": [
    "#Output layer\n",
    "model.add(tf.keras.layers.Dense(1, activation='sigmoid'))"
   ]
  },
  {
   "cell_type": "code",
   "execution_count": 13,
   "metadata": {
    "colab": {},
    "colab_type": "code",
    "id": "1q6rlTOxaVFh",
    "slideshow": {
     "slide_type": "fragment"
    }
   },
   "outputs": [],
   "source": [
    "#Compile the model\n",
    "model.compile(optimizer='adam', loss='binary_crossentropy', metrics=['accuracy'])"
   ]
  },
  {
   "cell_type": "markdown",
   "metadata": {
    "colab_type": "text",
    "id": "jtebz2AJaVFj",
    "slideshow": {
     "slide_type": "slide"
    }
   },
   "source": [
    "## Train the model"
   ]
  },
  {
   "cell_type": "code",
   "execution_count": null,
   "metadata": {
    "colab": {
     "base_uri": "https://localhost:8080/",
     "height": 469
    },
    "colab_type": "code",
    "executionInfo": {
     "elapsed": 144284,
     "status": "ok",
     "timestamp": 1558155482670,
     "user": {
      "displayName": "Rajeev Kumar",
      "photoUrl": "https://lh4.googleusercontent.com/-83GaAJT3hHA/AAAAAAAAAAI/AAAAAAABMsk/e8STDzL1f1s/s64/photo.jpg",
      "userId": "10567937244174773728"
     },
     "user_tz": -330
    },
    "id": "X33JZjnfaVFm",
    "outputId": "07a8c18a-82bf-49cc-fdb2-fe795b7fc7be",
    "slideshow": {
     "slide_type": "fragment"
    }
   },
   "outputs": [
    {
     "name": "stdout",
     "output_type": "stream",
     "text": [
      "Train on 20000 samples, validate on 5000 samples\n",
      "WARNING:tensorflow:From /usr/local/lib/python3.6/dist-packages/tensorflow/python/ops/math_ops.py:3066: to_int32 (from tensorflow.python.ops.math_ops) is deprecated and will be removed in a future version.\n",
      "Instructions for updating:\n",
      "Use tf.cast instead.\n",
      "Epoch 1/10\n",
      "20000/20000 [==============================] - 15s 739us/sample - loss: 0.5462 - acc: 0.8069 - val_loss: 0.5198 - val_acc: 0.8096\n",
      "Epoch 2/10\n",
      "20000/20000 [==============================] - 14s 704us/sample - loss: 0.4505 - acc: 0.8714 - val_loss: 0.4478 - val_acc: 0.8506\n",
      "Epoch 3/10\n",
      "20000/20000 [==============================] - 14s 705us/sample - loss: 0.3802 - acc: 0.9001 - val_loss: 0.4178 - val_acc: 0.8524\n",
      "Epoch 4/10\n",
      "20000/20000 [==============================] - 14s 701us/sample - loss: 0.3266 - acc: 0.9175 - val_loss: 0.3909 - val_acc: 0.8632\n",
      "Epoch 5/10\n",
      "20000/20000 [==============================] - 14s 705us/sample - loss: 0.2760 - acc: 0.9355 - val_loss: 0.4014 - val_acc: 0.8492\n",
      "Epoch 6/10\n",
      "20000/20000 [==============================] - 14s 707us/sample - loss: 0.2314 - acc: 0.9497 - val_loss: 0.3964 - val_acc: 0.8496\n",
      "Epoch 7/10\n",
      "20000/20000 [==============================] - 14s 707us/sample - loss: 0.1990 - acc: 0.9580 - val_loss: 0.4436 - val_acc: 0.8242\n",
      "Epoch 8/10\n",
      "20000/20000 [==============================] - 14s 709us/sample - loss: 0.1636 - acc: 0.9693 - val_loss: 0.4180 - val_acc: 0.8432\n",
      "Epoch 9/10\n",
      "20000/20000 [==============================] - 14s 718us/sample - loss: 0.1428 - acc: 0.9732 - val_loss: 0.5037 - val_acc: 0.8052\n",
      "Epoch 10/10\n",
      "20000/20000 [==============================] - 14s 719us/sample - loss: 0.1294 - acc: 0.9747 - val_loss: 0.4399 - val_acc: 0.8436\n"
     ]
    },
    {
     "data": {
      "text/plain": [
       "<tensorflow.python.keras.callbacks.History at 0x7f44e23ea7f0>"
      ]
     },
     "execution_count": 17,
     "metadata": {
      "tags": []
     },
     "output_type": "execute_result"
    }
   ],
   "source": [
    "#Train the model\n",
    "model.fit(features,sentiment,          \n",
    "          validation_split=0.2,\n",
    "          callbacks=[tensorboard],\n",
    "          epochs=10,\n",
    "          batch_size=32)"
   ]
  },
  {
   "cell_type": "code",
   "execution_count": null,
   "metadata": {
    "colab": {
     "base_uri": "https://localhost:8080/",
     "height": 34
    },
    "colab_type": "code",
    "executionInfo": {
     "elapsed": 511,
     "status": "ok",
     "timestamp": 1558155525493,
     "user": {
      "displayName": "Rajeev Kumar",
      "photoUrl": "https://lh4.googleusercontent.com/-83GaAJT3hHA/AAAAAAAAAAI/AAAAAAABMsk/e8STDzL1f1s/s64/photo.jpg",
      "userId": "10567937244174773728"
     },
     "user_tz": -330
    },
    "id": "3g0f6H8gFB8c",
    "outputId": "578f9ff2-e9c1-41d2-cdfa-047be2e295b4"
   },
   "outputs": [
    {
     "data": {
      "text/plain": [
       "array([[0.95040756]], dtype=float32)"
      ]
     },
     "execution_count": 18,
     "metadata": {
      "tags": []
     },
     "output_type": "execute_result"
    }
   ],
   "source": [
    "model.predict(features[0:1])"
   ]
  },
  {
   "cell_type": "code",
   "execution_count": null,
   "metadata": {
    "colab": {},
    "colab_type": "code",
    "id": "AcrwgoA1WDbp"
   },
   "outputs": [],
   "source": [
    "a = 'Vey nice xyz'\n",
    "a_f = tokenizer.texts_to_matrix([a], mode='tfidf')"
   ]
  },
  {
   "cell_type": "code",
   "execution_count": null,
   "metadata": {
    "colab": {
     "base_uri": "https://localhost:8080/",
     "height": 34
    },
    "colab_type": "code",
    "executionInfo": {
     "elapsed": 458,
     "status": "ok",
     "timestamp": 1558155677150,
     "user": {
      "displayName": "Rajeev Kumar",
      "photoUrl": "https://lh4.googleusercontent.com/-83GaAJT3hHA/AAAAAAAAAAI/AAAAAAABMsk/e8STDzL1f1s/s64/photo.jpg",
      "userId": "10567937244174773728"
     },
     "user_tz": -330
    },
    "id": "GmLWlU3sWe94",
    "outputId": "63261263-4870-4b50-f6fd-433ff24f0c16"
   },
   "outputs": [
    {
     "data": {
      "text/plain": [
       "(1, 5000)"
      ]
     },
     "execution_count": 23,
     "metadata": {
      "tags": []
     },
     "output_type": "execute_result"
    }
   ],
   "source": [
    "a_f.shape"
   ]
  },
  {
   "cell_type": "code",
   "execution_count": null,
   "metadata": {
    "colab": {
     "base_uri": "https://localhost:8080/",
     "height": 34
    },
    "colab_type": "code",
    "executionInfo": {
     "elapsed": 531,
     "status": "ok",
     "timestamp": 1558155646616,
     "user": {
      "displayName": "Rajeev Kumar",
      "photoUrl": "https://lh4.googleusercontent.com/-83GaAJT3hHA/AAAAAAAAAAI/AAAAAAABMsk/e8STDzL1f1s/s64/photo.jpg",
      "userId": "10567937244174773728"
     },
     "user_tz": -330
    },
    "id": "ejka0RNZWlKh",
    "outputId": "4a632a78-0ce8-42c6-975a-c582a4ab7281"
   },
   "outputs": [
    {
     "data": {
      "text/plain": [
       "array([[0.77600497]], dtype=float32)"
      ]
     },
     "execution_count": 21,
     "metadata": {
      "tags": []
     },
     "output_type": "execute_result"
    }
   ],
   "source": [
    "model.predict(a_f)"
   ]
  }
 ],
 "metadata": {
  "colab": {
   "collapsed_sections": [],
   "name": "2b. Sentiment_Analysis_FC_TFIDF_GL.ipynb",
   "provenance": [],
   "version": "0.3.2"
  },
  "kernelspec": {
   "display_name": "Python 3",
   "language": "python",
   "name": "python3"
  },
  "language_info": {
   "codemirror_mode": {
    "name": "ipython",
    "version": 3
   },
   "file_extension": ".py",
   "mimetype": "text/x-python",
   "name": "python",
   "nbconvert_exporter": "python",
   "pygments_lexer": "ipython3",
   "version": "3.7.6"
  }
 },
 "nbformat": 4,
 "nbformat_minor": 4
}
