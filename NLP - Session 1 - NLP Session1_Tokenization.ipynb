{
 "cells": [
  {
   "cell_type": "markdown",
   "metadata": {
    "id": "TBAMUzgIBP8c"
   },
   "source": [
    "Case Conversion\n",
    "\n"
   ]
  },
  {
   "cell_type": "code",
   "execution_count": 1,
   "metadata": {
    "colab": {
     "base_uri": "https://localhost:8080/",
     "height": 35
    },
    "executionInfo": {
     "elapsed": 1443,
     "status": "ok",
     "timestamp": 1604771152541,
     "user": {
      "displayName": "Raghav Nyapati",
      "photoUrl": "",
      "userId": "13728981372697321629"
     },
     "user_tz": -330
    },
    "id": "VkjDkHMoBVtb",
    "outputId": "91ca6334-0bc1-4bcb-faea-5c52edc3e146"
   },
   "outputs": [
    {
     "data": {
      "text/plain": [
       "'The quick brown fox jumped over The Big Dog'"
      ]
     },
     "execution_count": 1,
     "metadata": {},
     "output_type": "execute_result"
    }
   ],
   "source": [
    "text = 'The quick brown fox jumped over The Big Dog'\n",
    "text"
   ]
  },
  {
   "cell_type": "code",
   "execution_count": 2,
   "metadata": {
    "colab": {
     "base_uri": "https://localhost:8080/",
     "height": 35
    },
    "executionInfo": {
     "elapsed": 1229,
     "status": "ok",
     "timestamp": 1604771167739,
     "user": {
      "displayName": "Raghav Nyapati",
      "photoUrl": "",
      "userId": "13728981372697321629"
     },
     "user_tz": -330
    },
    "id": "q8B4dFSiBgA6",
    "outputId": "6427cd1a-1399-42ce-92aa-f72b07e0aebf"
   },
   "outputs": [
    {
     "data": {
      "text/plain": [
       "'the quick brown fox jumped over the big dog'"
      ]
     },
     "execution_count": 2,
     "metadata": {},
     "output_type": "execute_result"
    }
   ],
   "source": [
    "text.lower()"
   ]
  },
  {
   "cell_type": "code",
   "execution_count": 3,
   "metadata": {
    "colab": {
     "base_uri": "https://localhost:8080/",
     "height": 35
    },
    "executionInfo": {
     "elapsed": 1259,
     "status": "ok",
     "timestamp": 1604771181116,
     "user": {
      "displayName": "Raghav Nyapati",
      "photoUrl": "",
      "userId": "13728981372697321629"
     },
     "user_tz": -330
    },
    "id": "cI6SZ9MgBfvv",
    "outputId": "1582dea7-19fa-46a3-8a60-546571bcabbf"
   },
   "outputs": [
    {
     "data": {
      "text/plain": [
       "'THE QUICK BROWN FOX JUMPED OVER THE BIG DOG'"
      ]
     },
     "execution_count": 3,
     "metadata": {},
     "output_type": "execute_result"
    }
   ],
   "source": [
    "text.upper()"
   ]
  },
  {
   "cell_type": "markdown",
   "metadata": {
    "id": "5HjydtKFIDg4"
   },
   "source": [
    "Tokenization\n",
    "\n",
    "Tokenization is the processing of segmenting text into sentences or words\n",
    "\n",
    "Sentence Tokenization- Segmenting Paragraph(Corpus) into sentences\n",
    "Word Tokenization- Segmenting Sentence into  words"
   ]
  },
  {
   "cell_type": "code",
   "execution_count": 4,
   "metadata": {
    "colab": {
     "base_uri": "https://localhost:8080/"
    },
    "executionInfo": {
     "elapsed": 4329,
     "status": "ok",
     "timestamp": 1604771361242,
     "user": {
      "displayName": "Raghav Nyapati",
      "photoUrl": "",
      "userId": "13728981372697321629"
     },
     "user_tz": -330
    },
    "id": "2nIhU9XVGJlh",
    "outputId": "fc99321e-fc93-4483-a47d-61db6e74b796"
   },
   "outputs": [
    {
     "name": "stderr",
     "output_type": "stream",
     "text": [
      "[nltk_data] Downloading package punkt to\n",
      "[nltk_data]     C:\\Users\\mahesh\\AppData\\Roaming\\nltk_data...\n",
      "[nltk_data]   Package punkt is already up-to-date!\n",
      "[nltk_data] Downloading package brown to\n",
      "[nltk_data]     C:\\Users\\mahesh\\AppData\\Roaming\\nltk_data...\n",
      "[nltk_data]   Package brown is already up-to-date!\n"
     ]
    },
    {
     "data": {
      "text/plain": [
       "True"
      ]
     },
     "execution_count": 4,
     "metadata": {},
     "output_type": "execute_result"
    }
   ],
   "source": [
    "import nltk\n",
    "from nltk import word_tokenize\n",
    "from nltk import sent_tokenize\n",
    "nltk.download('punkt')\n",
    "nltk.download('brown')"
   ]
  },
  {
   "cell_type": "code",
   "execution_count": 5,
   "metadata": {
    "executionInfo": {
     "elapsed": 1211,
     "status": "ok",
     "timestamp": 1604771387695,
     "user": {
      "displayName": "Raghav Nyapati",
      "photoUrl": "",
      "userId": "13728981372697321629"
     },
     "user_tz": -330
    },
    "id": "lXIu7IynGSXV"
   },
   "outputs": [],
   "source": [
    "sentence = \"My name is George and I love NLP\""
   ]
  },
  {
   "cell_type": "code",
   "execution_count": 6,
   "metadata": {
    "executionInfo": {
     "elapsed": 979,
     "status": "ok",
     "timestamp": 1604771402350,
     "user": {
      "displayName": "Raghav Nyapati",
      "photoUrl": "",
      "userId": "13728981372697321629"
     },
     "user_tz": -330
    },
    "id": "4BZqaf0THIp3"
   },
   "outputs": [],
   "source": [
    "token1 = nltk.word_tokenize(sentence)"
   ]
  },
  {
   "cell_type": "code",
   "execution_count": 8,
   "metadata": {
    "colab": {
     "base_uri": "https://localhost:8080/"
    },
    "executionInfo": {
     "elapsed": 1723,
     "status": "ok",
     "timestamp": 1604771411900,
     "user": {
      "displayName": "Raghav Nyapati",
      "photoUrl": "",
      "userId": "13728981372697321629"
     },
     "user_tz": -330
    },
    "id": "UhjNMp7ZHXRN",
    "outputId": "38fcf95c-8c88-4653-eb6c-da50ae74f9f5"
   },
   "outputs": [
    {
     "name": "stdout",
     "output_type": "stream",
     "text": [
      "['My', 'name', 'is', 'George', 'and', 'I', 'love', 'NLP']\n"
     ]
    }
   ],
   "source": [
    "print(token1)"
   ]
  },
  {
   "cell_type": "markdown",
   "metadata": {
    "id": "nR6QiAXqH6lu"
   },
   "source": []
  },
  {
   "cell_type": "code",
   "execution_count": 9,
   "metadata": {
    "colab": {
     "base_uri": "https://localhost:8080/",
     "height": 52
    },
    "executionInfo": {
     "elapsed": 1185,
     "status": "ok",
     "timestamp": 1604771437345,
     "user": {
      "displayName": "Raghav Nyapati",
      "photoUrl": "",
      "userId": "13728981372697321629"
     },
     "user_tz": -330
    },
    "id": "AxE2cxrtKzWj",
    "outputId": "b8af6c1a-45a6-458a-fb55-8d26ae331fdb"
   },
   "outputs": [
    {
     "data": {
      "text/plain": [
       "\"US unveils world's most powerful supercomputer, beats China. The US has unveiled the world's most powerful supercomputer called 'Summit', beating the previous record-holder China's Sunway TaihuLight. With a peak performance of 200,000 trillion calculations per second, it is over twice as fast as Sunway TaihuLight, which is capable of 93,000 trillion calculations per second. Summit has 4,608 servers, which reportedly take up the size of two tennis courts.\""
      ]
     },
     "execution_count": 9,
     "metadata": {},
     "output_type": "execute_result"
    }
   ],
   "source": [
    "sample_text = (\"US unveils world's most powerful supercomputer, beats China. \" \n",
    "               \"The US has unveiled the world's most powerful supercomputer called 'Summit', \" \n",
    "               \"beating the previous record-holder China's Sunway TaihuLight. With a peak performance \"\n",
    "               \"of 200,000 trillion calculations per second, it is over twice as fast as Sunway TaihuLight, \"\n",
    "               \"which is capable of 93,000 trillion calculations per second. Summit has 4,608 servers, \"\n",
    "               \"which reportedly take up the size of two tennis courts.\")\n",
    "sample_text"
   ]
  },
  {
   "cell_type": "code",
   "execution_count": 10,
   "metadata": {
    "colab": {
     "base_uri": "https://localhost:8080/"
    },
    "executionInfo": {
     "elapsed": 966,
     "status": "ok",
     "timestamp": 1604643348835,
     "user": {
      "displayName": "Raghav Nyapati",
      "photoUrl": "",
      "userId": "13728981372697321629"
     },
     "user_tz": -330
    },
    "id": "IFcb8Y8VMgfy",
    "outputId": "f9b9aa69-2723-4596-afc6-93127e10a57d"
   },
   "outputs": [
    {
     "data": {
      "text/plain": [
       "[\"US unveils world's most powerful supercomputer, beats China.\",\n",
       " \"The US has unveiled the world's most powerful supercomputer called 'Summit', beating the previous record-holder China's Sunway TaihuLight.\",\n",
       " 'With a peak performance of 200,000 trillion calculations per second, it is over twice as fast as Sunway TaihuLight, which is capable of 93,000 trillion calculations per second.',\n",
       " 'Summit has 4,608 servers, which reportedly take up the size of two tennis courts.']"
      ]
     },
     "execution_count": 10,
     "metadata": {},
     "output_type": "execute_result"
    }
   ],
   "source": [
    "nltk.sent_tokenize(sample_text)"
   ]
  },
  {
   "cell_type": "code",
   "execution_count": 11,
   "metadata": {
    "colab": {
     "base_uri": "https://localhost:8080/"
    },
    "executionInfo": {
     "elapsed": 1489,
     "status": "ok",
     "timestamp": 1604771485911,
     "user": {
      "displayName": "Raghav Nyapati",
      "photoUrl": "",
      "userId": "13728981372697321629"
     },
     "user_tz": -330
    },
    "id": "3KVLjUfbMgra",
    "outputId": "b36433ac-ec6f-4f7f-955e-a2605e5b73a6"
   },
   "outputs": [
    {
     "name": "stdout",
     "output_type": "stream",
     "text": [
      "['US', 'unveils', 'world', \"'s\", 'most', 'powerful', 'supercomputer', ',', 'beats', 'China', '.', 'The', 'US', 'has', 'unveiled', 'the', 'world', \"'s\", 'most', 'powerful', 'supercomputer', 'called', \"'Summit\", \"'\", ',', 'beating', 'the', 'previous', 'record-holder', 'China', \"'s\", 'Sunway', 'TaihuLight', '.', 'With', 'a', 'peak', 'performance', 'of', '200,000', 'trillion', 'calculations', 'per', 'second', ',', 'it', 'is', 'over', 'twice', 'as', 'fast', 'as', 'Sunway', 'TaihuLight', ',', 'which', 'is', 'capable', 'of', '93,000', 'trillion', 'calculations', 'per', 'second', '.', 'Summit', 'has', '4,608', 'servers', ',', 'which', 'reportedly', 'take', 'up', 'the', 'size', 'of', 'two', 'tennis', 'courts', '.']\n"
     ]
    }
   ],
   "source": [
    "\n",
    "print(nltk.word_tokenize(sample_text))"
   ]
  },
  {
   "cell_type": "code",
   "execution_count": 12,
   "metadata": {
    "colab": {
     "base_uri": "https://localhost:8080/"
    },
    "executionInfo": {
     "elapsed": 965,
     "status": "ok",
     "timestamp": 1604771511235,
     "user": {
      "displayName": "Raghav Nyapati",
      "photoUrl": "",
      "userId": "13728981372697321629"
     },
     "user_tz": -330
    },
    "id": "a7jIiub_Mg3a",
    "outputId": "3791a589-c829-4151-a3f4-cc3c5549778a"
   },
   "outputs": [
    {
     "name": "stdout",
     "output_type": "stream",
     "text": [
      "Total Categories: 15\n"
     ]
    }
   ],
   "source": [
    "# load the Brown Corpus\n",
    "from nltk.corpus import brown\n",
    "\n",
    "# total categories\n",
    "print('Total Categories:', len(brown.categories()))"
   ]
  },
  {
   "cell_type": "code",
   "execution_count": 13,
   "metadata": {
    "colab": {
     "base_uri": "https://localhost:8080/"
    },
    "executionInfo": {
     "elapsed": 955,
     "status": "ok",
     "timestamp": 1604690838913,
     "user": {
      "displayName": "Raghav Nyapati",
      "photoUrl": "",
      "userId": "13728981372697321629"
     },
     "user_tz": -330
    },
    "id": "17dj6PROMhAn",
    "outputId": "64375f35-4e6b-4116-a279-c72e41de0636"
   },
   "outputs": [
    {
     "name": "stdout",
     "output_type": "stream",
     "text": [
      "['adventure', 'belles_lettres', 'editorial', 'fiction', 'government', 'hobbies', 'humor', 'learned', 'lore', 'mystery', 'news', 'religion', 'reviews', 'romance', 'science_fiction']\n"
     ]
    }
   ],
   "source": [
    "# print the categories\n",
    "print(brown.categories())"
   ]
  },
  {
   "cell_type": "code",
   "execution_count": 14,
   "metadata": {
    "colab": {
     "base_uri": "https://localhost:8080/"
    },
    "executionInfo": {
     "elapsed": 953,
     "status": "ok",
     "timestamp": 1604690855286,
     "user": {
      "displayName": "Raghav Nyapati",
      "photoUrl": "",
      "userId": "13728981372697321629"
     },
     "user_tz": -330
    },
    "id": "KH4VKufbMhIl",
    "outputId": "02ba30c9-d855-4fde-891f-0f3a45d4b4a9"
   },
   "outputs": [
    {
     "data": {
      "text/plain": [
       "[['There', 'were', 'thirty-eight', 'patients', 'on', 'the', 'bus', 'the', 'morning', 'I', 'left', 'for', 'Hanover', ',', 'most', 'of', 'them', 'disturbed', 'and', 'hallucinating', '.'], ['An', 'interne', ',', 'a', 'nurse', 'and', 'two', 'attendants', 'were', 'in', 'charge', 'of', 'us', '.'], ...]"
      ]
     },
     "execution_count": 14,
     "metadata": {},
     "output_type": "execute_result"
    }
   ],
   "source": [
    "# tokenized sentences\n",
    "brown.sents(categories='mystery')"
   ]
  },
  {
   "cell_type": "code",
   "execution_count": 15,
   "metadata": {
    "colab": {
     "base_uri": "https://localhost:8080/"
    },
    "executionInfo": {
     "elapsed": 1270,
     "status": "ok",
     "timestamp": 1604691034185,
     "user": {
      "displayName": "Raghav Nyapati",
      "photoUrl": "",
      "userId": "13728981372697321629"
     },
     "user_tz": -330
    },
    "id": "6BAgXaGUCe8Q",
    "outputId": "ac4e9aad-cd34-4ad5-a136-181b51dd8c93"
   },
   "outputs": [
    {
     "data": {
      "text/plain": [
       "['There were thirty-eight patients on the bus the morning I left for Hanover , most of them disturbed and hallucinating .',\n",
       " 'An interne , a nurse and two attendants were in charge of us .',\n",
       " \"I felt lonely and depressed as I stared out the bus window at Chicago's grim , dirty West Side .\",\n",
       " 'It seemed incredible , as I listened to the monotonous drone of voices and smelled the fetid odors coming from the patients , that technically I was a ward of the state of Illinois , going to a hospital for the mentally ill .',\n",
       " 'I suddenly thought of Mary Jane Brennan , the way her pretty eyes could flash with anger , her quiet competence , the gentleness and sweetness that lay just beneath the surface of her defenses .']"
      ]
     },
     "execution_count": 15,
     "metadata": {},
     "output_type": "execute_result"
    }
   ],
   "source": [
    "# get sentences in natural form\n",
    "sentences = brown.sents(categories='mystery')\n",
    "sentences = [' '.join(sentence_token) for sentence_token in sentences]\n",
    "sentences[0:5] # viewing the first 5 sentences"
   ]
  },
  {
   "cell_type": "code",
   "execution_count": null,
   "metadata": {
    "id": "ZAZyN24cCiPu"
   },
   "outputs": [],
   "source": []
  },
  {
   "cell_type": "code",
   "execution_count": null,
   "metadata": {
    "id": "UtEXyGxmCiip"
   },
   "outputs": [],
   "source": []
  },
  {
   "cell_type": "code",
   "execution_count": null,
   "metadata": {
    "id": "JjGyWqdTCiDh"
   },
   "outputs": [],
   "source": []
  }
 ],
 "metadata": {
  "colab": {
   "authorship_tag": "ABX9TyMrIB73uDdDCNEQNAkj4/Dq",
   "collapsed_sections": [],
   "name": "NLP Session1_Tokenization.ipynb",
   "provenance": []
  },
  "kernelspec": {
   "display_name": "Python 3",
   "language": "python",
   "name": "python3"
  },
  "language_info": {
   "codemirror_mode": {
    "name": "ipython",
    "version": 3
   },
   "file_extension": ".py",
   "mimetype": "text/x-python",
   "name": "python",
   "nbconvert_exporter": "python",
   "pygments_lexer": "ipython3",
   "version": "3.7.4"
  }
 },
 "nbformat": 4,
 "nbformat_minor": 1
}
