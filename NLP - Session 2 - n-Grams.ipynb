{
 "cells": [
  {
   "cell_type": "code",
   "execution_count": 1,
   "metadata": {
    "executionInfo": {
     "elapsed": 2809,
     "status": "ok",
     "timestamp": 1604855264966,
     "user": {
      "displayName": "Raghav Nyapati",
      "photoUrl": "",
      "userId": "13728981372697321629"
     },
     "user_tz": -330
    },
    "id": "SiL3kwgtamah"
   },
   "outputs": [],
   "source": [
    "from nltk import ngrams"
   ]
  },
  {
   "cell_type": "code",
   "execution_count": 2,
   "metadata": {
    "colab": {
     "base_uri": "https://localhost:8080/"
    },
    "executionInfo": {
     "elapsed": 1326,
     "status": "ok",
     "timestamp": 1604855452803,
     "user": {
      "displayName": "Raghav Nyapati",
      "photoUrl": "",
      "userId": "13728981372697321629"
     },
     "user_tz": -330
    },
    "id": "KsYmcVdPa2AA",
    "outputId": "59d7cf3d-6d96-40ac-bdb9-3490e97a8aca"
   },
   "outputs": [
    {
     "data": {
      "text/plain": [
       "[('The', 'cute'),\n",
       " ('cute', 'little'),\n",
       " ('little', 'girl'),\n",
       " ('girl', 'is'),\n",
       " ('is', 'playing'),\n",
       " ('playing', 'with'),\n",
       " ('with', 'the'),\n",
       " ('the', 'kitten.')]"
      ]
     },
     "execution_count": 2,
     "metadata": {},
     "output_type": "execute_result"
    }
   ],
   "source": [
    "list(ngrams('The cute little girl is playing with the kitten.'.split(), 2))"
   ]
  },
  {
   "cell_type": "code",
   "execution_count": null,
   "metadata": {},
   "outputs": [],
   "source": []
  }
 ],
 "metadata": {
  "colab": {
   "authorship_tag": "ABX9TyO2JyeCsMAVPNr5K+9Tcqy6",
   "collapsed_sections": [],
   "name": "n-Grams.ipynb",
   "provenance": []
  },
  "kernelspec": {
   "display_name": "Python 3",
   "language": "python",
   "name": "python3"
  },
  "language_info": {
   "codemirror_mode": {
    "name": "ipython",
    "version": 3
   },
   "file_extension": ".py",
   "mimetype": "text/x-python",
   "name": "python",
   "nbconvert_exporter": "python",
   "pygments_lexer": "ipython3",
   "version": "3.7.4"
  }
 },
 "nbformat": 4,
 "nbformat_minor": 1
}
